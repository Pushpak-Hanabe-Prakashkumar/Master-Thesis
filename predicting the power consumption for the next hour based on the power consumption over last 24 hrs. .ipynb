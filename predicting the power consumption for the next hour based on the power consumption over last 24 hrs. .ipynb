{
 "cells": [
  {
   "cell_type": "code",
   "execution_count": 126,
   "metadata": {},
   "outputs": [],
   "source": [
    "## These are the liberaries used to run LSTM Model. \n",
    "## Keras lib provides accruate results in Machine learning. LSTM is the predictive model \n",
    "## MinMaxScaler is for transform the attribute values in between 0 and 1\n",
    "## RMSE is used for evaluate the error\n",
    "\n",
    "import numpy as np\n",
    "import pandas as pd\n",
    "import matplotlib.pyplot as plt\n",
    "from keras.layers import Dense \n",
    "from keras.models import Sequential\n",
    "from keras.layers import LSTM\n",
    "from keras.layers import Dropout\n",
    "from sklearn.preprocessing import MinMaxScaler\n",
    "from sklearn.metrics import mean_squared_error"
   ]
  },
  {
   "cell_type": "code",
   "execution_count": 127,
   "metadata": {},
   "outputs": [],
   "source": [
    "## Reading the household Power consumption file, which is already cleaned with missing values.\n",
    "## Choosing index column as date_time because it is Time series data set\n",
    "## Its is having dates so parse dates is true\n",
    "## Its a large file so low memory is false \n",
    "\n",
    "df = pd.read_csv('Preprocessed data.csv', parse_dates= True, index_col = 'date_time', low_memory = False )\n",
    "\n"
   ]
  },
  {
   "cell_type": "code",
   "execution_count": 208,
   "metadata": {},
   "outputs": [
    {
     "data": {
      "text/html": [
       "<div>\n",
       "<style scoped>\n",
       "    .dataframe tbody tr th:only-of-type {\n",
       "        vertical-align: middle;\n",
       "    }\n",
       "\n",
       "    .dataframe tbody tr th {\n",
       "        vertical-align: top;\n",
       "    }\n",
       "\n",
       "    .dataframe thead th {\n",
       "        text-align: right;\n",
       "    }\n",
       "</style>\n",
       "<table border=\"1\" class=\"dataframe\">\n",
       "  <thead>\n",
       "    <tr style=\"text-align: right;\">\n",
       "      <th></th>\n",
       "      <th>Global_active_power</th>\n",
       "      <th>Global_reactive_power</th>\n",
       "      <th>Voltage</th>\n",
       "      <th>Global_intensity</th>\n",
       "      <th>Sub_metering_1</th>\n",
       "      <th>Sub_metering_2</th>\n",
       "      <th>Sub_metering_3</th>\n",
       "    </tr>\n",
       "    <tr>\n",
       "      <th>date_time</th>\n",
       "      <th></th>\n",
       "      <th></th>\n",
       "      <th></th>\n",
       "      <th></th>\n",
       "      <th></th>\n",
       "      <th></th>\n",
       "      <th></th>\n",
       "    </tr>\n",
       "  </thead>\n",
       "  <tbody>\n",
       "    <tr>\n",
       "      <th>2006-12-16 17:00:00</th>\n",
       "      <td>152.024</td>\n",
       "      <td>8.244</td>\n",
       "      <td>8447.18</td>\n",
       "      <td>651.6</td>\n",
       "      <td>0.0</td>\n",
       "      <td>19.0</td>\n",
       "      <td>607.0</td>\n",
       "    </tr>\n",
       "    <tr>\n",
       "      <th>2006-12-16 18:00:00</th>\n",
       "      <td>217.932</td>\n",
       "      <td>4.802</td>\n",
       "      <td>14074.81</td>\n",
       "      <td>936.0</td>\n",
       "      <td>0.0</td>\n",
       "      <td>403.0</td>\n",
       "      <td>1012.0</td>\n",
       "    </tr>\n",
       "    <tr>\n",
       "      <th>2006-12-16 19:00:00</th>\n",
       "      <td>204.014</td>\n",
       "      <td>5.114</td>\n",
       "      <td>13993.95</td>\n",
       "      <td>870.2</td>\n",
       "      <td>0.0</td>\n",
       "      <td>86.0</td>\n",
       "      <td>1001.0</td>\n",
       "    </tr>\n",
       "    <tr>\n",
       "      <th>2006-12-16 20:00:00</th>\n",
       "      <td>196.114</td>\n",
       "      <td>4.506</td>\n",
       "      <td>14044.29</td>\n",
       "      <td>835.0</td>\n",
       "      <td>0.0</td>\n",
       "      <td>0.0</td>\n",
       "      <td>1007.0</td>\n",
       "    </tr>\n",
       "    <tr>\n",
       "      <th>2006-12-16 21:00:00</th>\n",
       "      <td>183.388</td>\n",
       "      <td>4.600</td>\n",
       "      <td>14229.52</td>\n",
       "      <td>782.8</td>\n",
       "      <td>0.0</td>\n",
       "      <td>25.0</td>\n",
       "      <td>1033.0</td>\n",
       "    </tr>\n",
       "  </tbody>\n",
       "</table>\n",
       "</div>"
      ],
      "text/plain": [
       "                     Global_active_power  Global_reactive_power   Voltage  \\\n",
       "date_time                                                                   \n",
       "2006-12-16 17:00:00              152.024                  8.244   8447.18   \n",
       "2006-12-16 18:00:00              217.932                  4.802  14074.81   \n",
       "2006-12-16 19:00:00              204.014                  5.114  13993.95   \n",
       "2006-12-16 20:00:00              196.114                  4.506  14044.29   \n",
       "2006-12-16 21:00:00              183.388                  4.600  14229.52   \n",
       "\n",
       "                     Global_intensity  Sub_metering_1  Sub_metering_2  \\\n",
       "date_time                                                               \n",
       "2006-12-16 17:00:00             651.6             0.0            19.0   \n",
       "2006-12-16 18:00:00             936.0             0.0           403.0   \n",
       "2006-12-16 19:00:00             870.2             0.0            86.0   \n",
       "2006-12-16 20:00:00             835.0             0.0             0.0   \n",
       "2006-12-16 21:00:00             782.8             0.0            25.0   \n",
       "\n",
       "                     Sub_metering_3  \n",
       "date_time                            \n",
       "2006-12-16 17:00:00           607.0  \n",
       "2006-12-16 18:00:00          1012.0  \n",
       "2006-12-16 19:00:00          1001.0  \n",
       "2006-12-16 20:00:00          1007.0  \n",
       "2006-12-16 21:00:00          1033.0  "
      ]
     },
     "execution_count": 208,
     "metadata": {},
     "output_type": "execute_result"
    }
   ],
   "source": [
    "## head displays the of the data set.\n",
    "\n",
    "data.head()\n",
    "\n"
   ]
  },
  {
   "cell_type": "code",
   "execution_count": 129,
   "metadata": {},
   "outputs": [
    {
     "data": {
      "text/plain": [
       "(34951, 7)"
      ]
     },
     "execution_count": 129,
     "metadata": {},
     "output_type": "execute_result"
    }
   ],
   "source": [
    "data.shape"
   ]
  },
  {
   "cell_type": "markdown",
   "metadata": {},
   "source": [
    "# Preparing LSTM MODEL "
   ]
  },
  {
   "cell_type": "code",
   "execution_count": 183,
   "metadata": {},
   "outputs": [],
   "source": [
    "## This involves framing the dataset as supervised learning problem and normalizing the input variables\n",
    "## Framing the supervised learning problem as predicting the power consumption at current hour (t)\n",
    "## Predicting the power consumption for the next hour based on the power consumption over last 24 hrs \n"
   ]
  },
  {
   "cell_type": "code",
   "execution_count": 184,
   "metadata": {},
   "outputs": [],
   "source": [
    "## Convert series to supervised learning \n",
    "\n",
    "def series_to_supervised(data, n_in=1, n_out=1, dropnan=True):\n",
    "    n_vars = 1 if type(data) is list else data.shape[1]\n",
    "    df = pd.DataFrame(data)\n",
    "    cols, names = list(), list()\n",
    "    \n",
    "    ## input sequence (t-n,.....t-1)\n",
    "    \n",
    "    for i in range(n_in, 0, -1):\n",
    "        cols.append(df.shift(-i))\n",
    "        names += [('var%d(t-%d)' % (j+1, i)) for j in range(n_vars)]\n",
    "        \n",
    "    ## forecast sequence (t, t+1,....t+n)    \n",
    "    \n",
    "    for i in range(0, n_out):\n",
    "        cols.append(df.shift(-i))\n",
    "        if i==0:\n",
    "            names += [('var%d(t)' % (j+1)) for j in range(n_vars)]\n",
    "        else:\n",
    "            names += [('var%d(t+%d)' % (j+1)) for j in range(n_vars)]\n",
    "    \n",
    "    ## put it all together \n",
    "    \n",
    "        agg = pd.concat(cols, axis=1)\n",
    "        agg.columns = names\n",
    "        \n",
    "    ## Drop rows with NAN values     \n",
    "    \n",
    "        if dropnan:\n",
    "            agg.dropna(inplace=True)\n",
    "        return agg"
   ]
  },
  {
   "cell_type": "code",
   "execution_count": 185,
   "metadata": {},
   "outputs": [
    {
     "data": {
      "text/plain": [
       "(34951, 7)"
      ]
     },
     "execution_count": 185,
     "metadata": {},
     "output_type": "execute_result"
    }
   ],
   "source": [
    "df_resample = df.resample('h').mean()\n",
    "df_resample.shape"
   ]
  },
  {
   "cell_type": "code",
   "execution_count": 186,
   "metadata": {},
   "outputs": [
    {
     "data": {
      "text/html": [
       "<div>\n",
       "<style scoped>\n",
       "    .dataframe tbody tr th:only-of-type {\n",
       "        vertical-align: middle;\n",
       "    }\n",
       "\n",
       "    .dataframe tbody tr th {\n",
       "        vertical-align: top;\n",
       "    }\n",
       "\n",
       "    .dataframe thead th {\n",
       "        text-align: right;\n",
       "    }\n",
       "</style>\n",
       "<table border=\"1\" class=\"dataframe\">\n",
       "  <thead>\n",
       "    <tr style=\"text-align: right;\">\n",
       "      <th></th>\n",
       "      <th>Global_active_power</th>\n",
       "      <th>Global_reactive_power</th>\n",
       "      <th>Voltage</th>\n",
       "      <th>Global_intensity</th>\n",
       "      <th>Sub_metering_1</th>\n",
       "      <th>Sub_metering_2</th>\n",
       "      <th>Sub_metering_3</th>\n",
       "    </tr>\n",
       "    <tr>\n",
       "      <th>date_time</th>\n",
       "      <th></th>\n",
       "      <th></th>\n",
       "      <th></th>\n",
       "      <th></th>\n",
       "      <th></th>\n",
       "      <th></th>\n",
       "      <th></th>\n",
       "    </tr>\n",
       "  </thead>\n",
       "  <tbody>\n",
       "    <tr>\n",
       "      <th>2006-12-16 17:24:00</th>\n",
       "      <td>4.216</td>\n",
       "      <td>0.418</td>\n",
       "      <td>234.84</td>\n",
       "      <td>18.4</td>\n",
       "      <td>0.0</td>\n",
       "      <td>1.0</td>\n",
       "      <td>17.0</td>\n",
       "    </tr>\n",
       "    <tr>\n",
       "      <th>2006-12-16 17:25:00</th>\n",
       "      <td>5.360</td>\n",
       "      <td>0.436</td>\n",
       "      <td>233.63</td>\n",
       "      <td>23.0</td>\n",
       "      <td>0.0</td>\n",
       "      <td>1.0</td>\n",
       "      <td>16.0</td>\n",
       "    </tr>\n",
       "    <tr>\n",
       "      <th>2006-12-16 17:26:00</th>\n",
       "      <td>5.374</td>\n",
       "      <td>0.498</td>\n",
       "      <td>233.29</td>\n",
       "      <td>23.0</td>\n",
       "      <td>0.0</td>\n",
       "      <td>2.0</td>\n",
       "      <td>17.0</td>\n",
       "    </tr>\n",
       "    <tr>\n",
       "      <th>2006-12-16 17:27:00</th>\n",
       "      <td>5.388</td>\n",
       "      <td>0.502</td>\n",
       "      <td>233.74</td>\n",
       "      <td>23.0</td>\n",
       "      <td>0.0</td>\n",
       "      <td>1.0</td>\n",
       "      <td>17.0</td>\n",
       "    </tr>\n",
       "    <tr>\n",
       "      <th>2006-12-16 17:28:00</th>\n",
       "      <td>3.666</td>\n",
       "      <td>0.528</td>\n",
       "      <td>235.68</td>\n",
       "      <td>15.8</td>\n",
       "      <td>0.0</td>\n",
       "      <td>1.0</td>\n",
       "      <td>17.0</td>\n",
       "    </tr>\n",
       "  </tbody>\n",
       "</table>\n",
       "</div>"
      ],
      "text/plain": [
       "                     Global_active_power  Global_reactive_power  Voltage  \\\n",
       "date_time                                                                  \n",
       "2006-12-16 17:24:00                4.216                  0.418   234.84   \n",
       "2006-12-16 17:25:00                5.360                  0.436   233.63   \n",
       "2006-12-16 17:26:00                5.374                  0.498   233.29   \n",
       "2006-12-16 17:27:00                5.388                  0.502   233.74   \n",
       "2006-12-16 17:28:00                3.666                  0.528   235.68   \n",
       "\n",
       "                     Global_intensity  Sub_metering_1  Sub_metering_2  \\\n",
       "date_time                                                               \n",
       "2006-12-16 17:24:00              18.4             0.0             1.0   \n",
       "2006-12-16 17:25:00              23.0             0.0             1.0   \n",
       "2006-12-16 17:26:00              23.0             0.0             2.0   \n",
       "2006-12-16 17:27:00              23.0             0.0             1.0   \n",
       "2006-12-16 17:28:00              15.8             0.0             1.0   \n",
       "\n",
       "                     Sub_metering_3  \n",
       "date_time                            \n",
       "2006-12-16 17:24:00            17.0  \n",
       "2006-12-16 17:25:00            16.0  \n",
       "2006-12-16 17:26:00            17.0  \n",
       "2006-12-16 17:27:00            17.0  \n",
       "2006-12-16 17:28:00            17.0  "
      ]
     },
     "execution_count": 186,
     "metadata": {},
     "output_type": "execute_result"
    }
   ],
   "source": [
    "df.head()"
   ]
  },
  {
   "cell_type": "code",
   "execution_count": 187,
   "metadata": {},
   "outputs": [],
   "source": [
    "## values returns a list of all the values in the data frame\n",
    "values = df_resample.values"
   ]
  },
  {
   "cell_type": "code",
   "execution_count": 188,
   "metadata": {},
   "outputs": [],
   "source": [
    "## Normalize features\n",
    "scaler = MinMaxScaler(feature_range=(0, 1))"
   ]
  },
  {
   "cell_type": "code",
   "execution_count": 189,
   "metadata": {},
   "outputs": [],
   "source": [
    "## calculating scaler using fit_transform fn for values and assigning it as scaled \n",
    "scaled = scaler.fit_transform(values)"
   ]
  },
  {
   "cell_type": "code",
   "execution_count": 190,
   "metadata": {},
   "outputs": [],
   "source": [
    "## Called series_to_supervised fn to make it as supervised learning \n",
    "reframed = series_to_supervised(scaled, 1, 1)\n"
   ]
  },
  {
   "cell_type": "code",
   "execution_count": 191,
   "metadata": {},
   "outputs": [],
   "source": [
    "## Droping the other columns because we are Predicting only for Global active power\n",
    "reframed.drop(reframed.columns[[8,9,10,11,12,13]], axis=1, inplace=True)\n"
   ]
  },
  {
   "cell_type": "code",
   "execution_count": 192,
   "metadata": {},
   "outputs": [
    {
     "data": {
      "text/html": [
       "<div>\n",
       "<style scoped>\n",
       "    .dataframe tbody tr th:only-of-type {\n",
       "        vertical-align: middle;\n",
       "    }\n",
       "\n",
       "    .dataframe tbody tr th {\n",
       "        vertical-align: top;\n",
       "    }\n",
       "\n",
       "    .dataframe thead th {\n",
       "        text-align: right;\n",
       "    }\n",
       "</style>\n",
       "<table border=\"1\" class=\"dataframe\">\n",
       "  <thead>\n",
       "    <tr style=\"text-align: right;\">\n",
       "      <th></th>\n",
       "      <th>var1(t-1)</th>\n",
       "      <th>var2(t-1)</th>\n",
       "      <th>var3(t-1)</th>\n",
       "      <th>var4(t-1)</th>\n",
       "      <th>var5(t-1)</th>\n",
       "      <th>var6(t-1)</th>\n",
       "      <th>var7(t-1)</th>\n",
       "      <th>var1(t)</th>\n",
       "    </tr>\n",
       "  </thead>\n",
       "  <tbody>\n",
       "    <tr>\n",
       "      <th>0</th>\n",
       "      <td>0.545045</td>\n",
       "      <td>0.103358</td>\n",
       "      <td>0.335501</td>\n",
       "      <td>0.541487</td>\n",
       "      <td>0.0</td>\n",
       "      <td>0.144652</td>\n",
       "      <td>0.782676</td>\n",
       "      <td>0.636816</td>\n",
       "    </tr>\n",
       "    <tr>\n",
       "      <th>1</th>\n",
       "      <td>0.509006</td>\n",
       "      <td>0.110073</td>\n",
       "      <td>0.283802</td>\n",
       "      <td>0.502152</td>\n",
       "      <td>0.0</td>\n",
       "      <td>0.030869</td>\n",
       "      <td>0.774169</td>\n",
       "      <td>0.545045</td>\n",
       "    </tr>\n",
       "    <tr>\n",
       "      <th>2</th>\n",
       "      <td>0.488550</td>\n",
       "      <td>0.096987</td>\n",
       "      <td>0.315987</td>\n",
       "      <td>0.481110</td>\n",
       "      <td>0.0</td>\n",
       "      <td>0.000000</td>\n",
       "      <td>0.778809</td>\n",
       "      <td>0.509006</td>\n",
       "    </tr>\n",
       "    <tr>\n",
       "      <th>3</th>\n",
       "      <td>0.455597</td>\n",
       "      <td>0.099010</td>\n",
       "      <td>0.434417</td>\n",
       "      <td>0.449904</td>\n",
       "      <td>0.0</td>\n",
       "      <td>0.008973</td>\n",
       "      <td>0.798917</td>\n",
       "      <td>0.488550</td>\n",
       "    </tr>\n",
       "    <tr>\n",
       "      <th>4</th>\n",
       "      <td>0.322555</td>\n",
       "      <td>0.072536</td>\n",
       "      <td>0.495847</td>\n",
       "      <td>0.323529</td>\n",
       "      <td>0.0</td>\n",
       "      <td>0.002872</td>\n",
       "      <td>0.205723</td>\n",
       "      <td>0.455597</td>\n",
       "    </tr>\n",
       "  </tbody>\n",
       "</table>\n",
       "</div>"
      ],
      "text/plain": [
       "   var1(t-1)  var2(t-1)  var3(t-1)  var4(t-1)  var5(t-1)  var6(t-1)  \\\n",
       "0   0.545045   0.103358   0.335501   0.541487        0.0   0.144652   \n",
       "1   0.509006   0.110073   0.283802   0.502152        0.0   0.030869   \n",
       "2   0.488550   0.096987   0.315987   0.481110        0.0   0.000000   \n",
       "3   0.455597   0.099010   0.434417   0.449904        0.0   0.008973   \n",
       "4   0.322555   0.072536   0.495847   0.323529        0.0   0.002872   \n",
       "\n",
       "   var7(t-1)   var1(t)  \n",
       "0   0.782676  0.636816  \n",
       "1   0.774169  0.545045  \n",
       "2   0.778809  0.509006  \n",
       "3   0.798917  0.488550  \n",
       "4   0.205723  0.455597  "
      ]
     },
     "execution_count": 192,
     "metadata": {},
     "output_type": "execute_result"
    }
   ],
   "source": [
    "## Reframed head \n",
    "## This prints the first five rows of transformed dataset. We can see the 8 input variables( input series )\n",
    "## The 1 output variable at the current hour that is var1(t)\n",
    "\n",
    "reframed.head()"
   ]
  },
  {
   "cell_type": "markdown",
   "metadata": {},
   "source": [
    "## Define and Fit model "
   ]
  },
  {
   "cell_type": "code",
   "execution_count": 193,
   "metadata": {},
   "outputs": [],
   "source": [
    "## Fit an LSTM model on the multivariate input dat.\n",
    "## First, Splitting the prepared data sets into train and test sets.\n",
    "## To speed up the training model, fit the model on the first year of data,then evaluate on the remaining 3 years of data.\n",
    "## Splits the dataset into train and test tests, then splits the train and test sets into input and output variables.\n",
    "## Then input(X) are reshaped into 3D format expected by LSTMs namley [samples,timesteps,features]\n"
   ]
  },
  {
   "cell_type": "code",
   "execution_count": 194,
   "metadata": {},
   "outputs": [],
   "source": [
    "## split into train and test sets \n",
    "\n",
    "values = reframed.values\n",
    "n_train_hours = 365*24\n",
    "train = values[:n_train_hours, :]\n",
    "test = values[n_train_hours:, :]"
   ]
  },
  {
   "cell_type": "code",
   "execution_count": 195,
   "metadata": {},
   "outputs": [],
   "source": [
    "## split into input and outputs \n",
    "\n",
    "train_x, train_y = train[:, :-1], train[:, -1]\n",
    "test_x, test_y = test[:, :-1], test[:, -1]"
   ]
  },
  {
   "cell_type": "code",
   "execution_count": 196,
   "metadata": {},
   "outputs": [],
   "source": [
    "## reshape input to be 3D \n",
    "\n",
    "train_x = train_x.reshape((train_x.shape[0], 1, train_x.shape[1]))\n",
    "test_x = test_x.reshape((test_x.shape[0], 1, test_x.shape[1]))\n"
   ]
  },
  {
   "cell_type": "code",
   "execution_count": 197,
   "metadata": {},
   "outputs": [
    {
     "name": "stdout",
     "output_type": "stream",
     "text": [
      "(8760, 1, 7) (8760,) (25816, 1, 7) (25816,)\n"
     ]
    }
   ],
   "source": [
    "## Prints the shape of input of the train and test input and output about 9k hours for training and 26k hours for testing.\n",
    "\n",
    "print(train_x.shape, train_y.shape,test_x.shape, test_y.shape )"
   ]
  },
  {
   "cell_type": "markdown",
   "metadata": {},
   "source": [
    "# Fit our LSTM Model \n"
   ]
  },
  {
   "cell_type": "code",
   "execution_count": 198,
   "metadata": {},
   "outputs": [],
   "source": [
    "## Define LSTM with 100 neurons in the first hidden layer and 1 neuron in the output layer for predicting power consumption.\n",
    "## The input shape will 1 time step with 8 features \n",
    "## Using Mean Absolute error(MAE) loss function and the efficient adam version stochastic gradient descent \n",
    "## The model will be fit for 20 training epchos with a batch size of 70. \n",
    "## Tracking the training and test loss during training by setting the validation_data argument in the fit() fn.\n",
    "## Plotting the training and test loss are plotted "
   ]
  },
  {
   "cell_type": "code",
   "execution_count": 199,
   "metadata": {},
   "outputs": [
    {
     "name": "stdout",
     "output_type": "stream",
     "text": [
      "Epoch 1/20\n",
      "126/126 - 2s - loss: 0.0183 - val_loss: 0.0107\n",
      "Epoch 2/20\n",
      "126/126 - 1s - loss: 0.0124 - val_loss: 0.0099\n",
      "Epoch 3/20\n",
      "126/126 - 1s - loss: 0.0119 - val_loss: 0.0095\n",
      "Epoch 4/20\n",
      "126/126 - 1s - loss: 0.0116 - val_loss: 0.0092\n",
      "Epoch 5/20\n",
      "126/126 - 1s - loss: 0.0115 - val_loss: 0.0091\n",
      "Epoch 6/20\n",
      "126/126 - 1s - loss: 0.0114 - val_loss: 0.0091\n",
      "Epoch 7/20\n",
      "126/126 - 1s - loss: 0.0113 - val_loss: 0.0090\n",
      "Epoch 8/20\n",
      "126/126 - 1s - loss: 0.0113 - val_loss: 0.0090\n",
      "Epoch 9/20\n",
      "126/126 - 1s - loss: 0.0112 - val_loss: 0.0090\n",
      "Epoch 10/20\n",
      "126/126 - 1s - loss: 0.0112 - val_loss: 0.0090\n",
      "Epoch 11/20\n",
      "126/126 - 1s - loss: 0.0112 - val_loss: 0.0090\n",
      "Epoch 12/20\n",
      "126/126 - 1s - loss: 0.0112 - val_loss: 0.0089\n",
      "Epoch 13/20\n",
      "126/126 - 1s - loss: 0.0112 - val_loss: 0.0090\n",
      "Epoch 14/20\n",
      "126/126 - 1s - loss: 0.0111 - val_loss: 0.0089\n",
      "Epoch 15/20\n",
      "126/126 - 1s - loss: 0.0112 - val_loss: 0.0089\n",
      "Epoch 16/20\n",
      "126/126 - 1s - loss: 0.0111 - val_loss: 0.0089\n",
      "Epoch 17/20\n",
      "126/126 - 1s - loss: 0.0111 - val_loss: 0.0089\n",
      "Epoch 18/20\n",
      "126/126 - 1s - loss: 0.0111 - val_loss: 0.0089\n",
      "Epoch 19/20\n",
      "126/126 - 1s - loss: 0.0111 - val_loss: 0.0090\n",
      "Epoch 20/20\n",
      "126/126 - 1s - loss: 0.0111 - val_loss: 0.0089\n"
     ]
    },
    {
     "data": {
      "image/png": "[encoded data removed]",
      "text/plain": [
       "<Figure size 432x288 with 1 Axes>"
      ]
     },
     "metadata": {
      "needs_background": "light"
     },
     "output_type": "display_data"
    }
   ],
   "source": [
    "## design network \n",
    "model = Sequential()\n",
    "model.add(LSTM(100, input_shape=(train_x.shape[1], train_x.shape[2])))\n",
    "model.add(Dropout(0.2))\n",
    "model.add(Dense(1))\n",
    "model.compile(loss='mean_squared_error', optimizer='adam')\n",
    "\n",
    "# fit network\n",
    "history = model.fit(train_x, train_y, epochs=20, batch_size=70, validation_data=(test_x, test_y), verbose=2, shuffle=False)\n",
    "\n",
    "# plot history\n",
    "plt.plot(history.history['loss'])\n",
    "plt.plot(history.history['val_loss'])\n",
    "plt.title('model loss')\n",
    "plt.ylabel('loss')\n",
    "plt.xlabel('epoch')\n",
    "plt.legend(['train', 'test'], loc='upper right')\n",
    "plt.show()\n"
   ]
  },
  {
   "cell_type": "markdown",
   "metadata": {},
   "source": [
    "# Evaluate Model \n",
    "## After the model is fit, we can forecast the entire test dataset"
   ]
  },
  {
   "cell_type": "code",
   "execution_count": 200,
   "metadata": {},
   "outputs": [],
   "source": [
    "## Combine the forecast with the test data set and invert scaling.\n",
    "## Invert scaling on the test dataset with the exxpected power consumption numbers.\n",
    "## With forecasts and actual values in their scale, Calcuation of an error is made. \n",
    "## For this we calculate RMSE( Root mean squared error) that gives error in the same units as the variable itself."
   ]
  },
  {
   "cell_type": "code",
   "execution_count": 201,
   "metadata": {},
   "outputs": [
    {
     "name": "stdout",
     "output_type": "stream",
     "text": [
      "Test RMSE: 0.608\n"
     ]
    }
   ],
   "source": [
    "# make a prediction\n",
    "yhat = model.predict(test_x)\n",
    "test_x = test_x.reshape((test_x.shape[0], 7))\n",
    "\n",
    "# invert scaling for forecast\n",
    "inv_yhat = np.concatenate((yhat, test_x[:, -6:]), axis=1)\n",
    "inv_yhat = scaler.inverse_transform(inv_yhat)\n",
    "inv_yhat = inv_yhat[:,0]\n",
    "\n",
    "# invert scaling for actual\n",
    "test_y = test_y.reshape((len(test_y), 1))\n",
    "inv_y = np.concatenate((test_y, test_x[:, -6:]), axis=1)\n",
    "inv_y = scaler.inverse_transform(inv_y)\n",
    "inv_y = inv_y[:,0]\n",
    "\n",
    "# calculate RMSE\n",
    "rmse = np.sqrt(mean_squared_error(inv_y, inv_yhat))\n",
    "print('Test RMSE: %.3f' % rmse)"
   ]
  },
  {
   "cell_type": "markdown",
   "metadata": {},
   "source": [
    "# Plotting Actual vs Predicted "
   ]
  },
  {
   "cell_type": "code",
   "execution_count": 207,
   "metadata": {},
   "outputs": [
    {
     "data": {
      "image/png": "[encoded data removed]",
      "text/plain": [
       "<Figure size 432x288 with 1 Axes>"
      ]
     },
     "metadata": {
      "needs_background": "light"
     },
     "output_type": "display_data"
    }
   ],
   "source": [
    "px=[x for x in range(400)]\n",
    "plt.plot(px, inv_y[:400], marker='.', label=\"actual\")\n",
    "plt.plot(px, inv_yhat[:400], 'r', label=\"prediction\")\n",
    "plt.ylabel('Global_active_power', size=15)\n",
    "plt.xlabel('Time step', size=15)\n",
    "plt.legend(fontsize=15)\n",
    "plt.show()"
   ]
  }
 ],
 "metadata": {
  "kernelspec": {
   "display_name": "Python 3",
   "language": "python",
   "name": "python3"
  },
  "language_info": {
   "codemirror_mode": {
    "name": "ipython",
    "version": 3
   },
   "file_extension": ".py",
   "mimetype": "text/x-python",
   "name": "python",
   "nbconvert_exporter": "python",
   "pygments_lexer": "ipython3",
   "version": "3.8.3"
  }
 },
 "nbformat": 4,
 "nbformat_minor": 4
}
